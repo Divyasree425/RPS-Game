{
 "cells": [
  {
   "cell_type": "code",
   "execution_count": 4,
   "id": "12561a35",
   "metadata": {},
   "outputs": [
    {
     "name": "stdout",
     "output_type": "stream",
     "text": [
      "Enter the max score3\n",
      "Okay...Maximum score set...Let's get started!!!\n",
      "Rock, Paper, Scissors?Rock\n",
      "Tie!\n",
      "None gets the point!\n",
      "Rock, Paper, Scissors?Paper\n",
      "Tie!\n",
      "None gets the point!\n",
      "Rock, Paper, Scissors?Scissors\n",
      "You lose... Rock smashes Scissors\n",
      "      SCORES\n",
      "************************\n",
      "YOUR SCORE: 0\n",
      "COMPUTER SCORE: 1\n",
      "Sorry, you lose!\n"
     ]
    }
   ],
   "source": [
    "from random import randint\n",
    "t = [\"Rock\", \"Paper\", \"Scissors\"]\n",
    "\n",
    "#assign a random play to the computer\n",
    "computer = t[randint(0,2)]\n",
    "\n",
    "s=int(input(\"Enter the max score\"))\n",
    "y,c=0,0\n",
    "print(\"Okay...Maximum score set...Let's get started!!!\")\n",
    "for i in range(1,s+1):\n",
    "    \n",
    "\n",
    "        player = input(\"Rock, Paper, Scissors?\")\n",
    "        if player == computer:\n",
    "            print(\"Tie!\")\n",
    "            print(\"None gets the point!\")\n",
    "        elif player == \"Rock\":\n",
    "            if computer == \"Paper\":\n",
    "                print(\"You lose!\", computer, \"covers\", player)\n",
    "                c+=1\n",
    "            else:\n",
    "                print(\"You win!\", player, \"smashes\", computer)\n",
    "                y+=1\n",
    "        elif player == \"Paper\":\n",
    "            if computer == \"Scissors\":\n",
    "                print(\"You lose!\", computer, \"cut\", player)\n",
    "                c+=1\n",
    "            else:\n",
    "                print(\"You win!\", player, \"covers\", computer)\n",
    "                y+=1\n",
    "        elif player == \"Scissors\":\n",
    "            if computer == \"Rock\":\n",
    "                print(\"You lose...\", computer, \"smashes\", player)\n",
    "                c+=1\n",
    "            else:\n",
    "                print(\"You win!\", player, \"cut\", computer)\n",
    "                y+=1\n",
    "        else:\n",
    "            print(\"That's not a valid play. Check your spelling!\")\n",
    "         #player was set to True, but we want it to be False so the loop continues\n",
    "        computer = t[randint(0,2)]\n",
    "print(\"\"\"      SCORES\n",
    "************************\"\"\")\n",
    "print(\"YOUR SCORE:\",y)\n",
    "print(\"COMPUTER SCORE:\",c)\n",
    "if(y>c):\n",
    "    print(\"Congratulations!!!You win!\")\n",
    "elif(c>y):\n",
    "    print(\"Sorry, you lose!\")\n",
    "else:\n",
    "    print(\"It's a tie!\")\n",
    "   \n",
    "    \n",
    "    \n"
   ]
  },
  {
   "cell_type": "code",
   "execution_count": null,
   "id": "38e54cf5",
   "metadata": {},
   "outputs": [],
   "source": []
  }
 ],
 "metadata": {
  "kernelspec": {
   "display_name": "Python 3 (ipykernel)",
   "language": "python",
   "name": "python3"
  },
  "language_info": {
   "codemirror_mode": {
    "name": "ipython",
    "version": 3
   },
   "file_extension": ".py",
   "mimetype": "text/x-python",
   "name": "python",
   "nbconvert_exporter": "python",
   "pygments_lexer": "ipython3",
   "version": "3.10.9"
  }
 },
 "nbformat": 4,
 "nbformat_minor": 5
}
